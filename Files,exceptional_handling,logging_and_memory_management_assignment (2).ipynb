{
  "nbformat": 4,
  "nbformat_minor": 0,
  "metadata": {
    "colab": {
      "provenance": []
    },
    "kernelspec": {
      "name": "python3",
      "display_name": "Python 3"
    },
    "language_info": {
      "name": "python"
    }
  },
  "cells": [
    {
      "cell_type": "code",
      "execution_count": null,
      "metadata": {
        "id": "48aCedAyTAX_"
      },
      "outputs": [],
      "source": []
    },
    {
      "cell_type": "markdown",
      "source": [
        "1. Difference between interpreted and compiled languages\n",
        "\n",
        "\n",
        "*   Interpreted languages execute code line by line (e.g., Python, JavaScript).\n",
        "\n",
        "\n",
        "*   Compiled languages convert the entire code into machine language before execution (e.g., C, C++).\n",
        "\n",
        "\n",
        "\n",
        "\n",
        "\n"
      ],
      "metadata": {
        "id": "8-RkV30xTU5o"
      }
    },
    {
      "cell_type": "markdown",
      "source": [
        "2. What is Exception handling in Python\n",
        "\n",
        "\n",
        "*  Python handles errors using try, except, finally, and raise. It prevents programs from crashing when errors occur.\n",
        "\n"
      ],
      "metadata": {
        "id": "HkvOPTN_UR0b"
      }
    },
    {
      "cell_type": "markdown",
      "source": [
        "3.What is Purpose of finally in exception handling?\n",
        "\n",
        "\n",
        "*   The finally block runs regardless of whether an exception occurs or not, ensuring cleanup actions (e.g., closing files).\n",
        "\n"
      ],
      "metadata": {
        "id": "EWqBwXzDUhXR"
      }
    },
    {
      "cell_type": "markdown",
      "source": [
        "4.What is Logging in Python?\n",
        "\n",
        "\n",
        "*   Python’s logging module records program execution details, helping with debugging and tracking errors.\n",
        "\n"
      ],
      "metadata": {
        "id": "gBsRQ3dLUuXi"
      }
    },
    {
      "cell_type": "markdown",
      "source": [
        "5. What is Significance of __del__ method in Python?\n",
        "\n",
        "\n",
        "*   The __del__ method is a destructor that gets called when an object is deleted or goes out of scope.\n",
        "\n"
      ],
      "metadata": {
        "id": "J8pboznVVfkC"
      }
    },
    {
      "cell_type": "markdown",
      "source": [
        "6.What is  Difference between import and from ... import in python?\n",
        "\n",
        "\n",
        "* import module_name imports the whole module.\n",
        "\n",
        "\n",
        "*   From module_name import function imports only specific parts.\n",
        "\n",
        "\n",
        "\n"
      ],
      "metadata": {
        "id": "46kqm-0_V5Hs"
      }
    },
    {
      "cell_type": "markdown",
      "source": [
        "7. How can you handle  multiple exceptions in python?\n",
        "\n",
        "\n",
        "*   Use multiple except blocks or a single block with multiple exception types:\n",
        "\n"
      ],
      "metadata": {
        "id": "OR48NupJWc-R"
      }
    },
    {
      "cell_type": "code",
      "source": [
        "try:\n",
        "    x = 1 / 0\n",
        "except (ZeroDivisionError, ValueError) as e:\n",
        "    print(f\"Error: {e}\")\n"
      ],
      "metadata": {
        "colab": {
          "base_uri": "https://localhost:8080/"
        },
        "id": "sjPVbNoMW0bI",
        "outputId": "9b92c363-e5f4-4f89-a433-bb3b62b64f5c"
      },
      "execution_count": 14,
      "outputs": [
        {
          "output_type": "stream",
          "name": "stdout",
          "text": [
            "Error: division by zero\n"
          ]
        }
      ]
    },
    {
      "cell_type": "markdown",
      "source": [
        "8.What is the Purpose of with statement in file handling files python?\n",
        "\n",
        "\n",
        "*   \n",
        "The with statement ensures files are closed automatically after used.\n"
      ],
      "metadata": {
        "id": "B7bB8r2RICrf"
      }
    },
    {
      "cell_type": "markdown",
      "source": [
        "9.What is difference between Multithreading vs. Multiprocessing?\n",
        "\n",
        "\n",
        "*   Multithreading: Multiple threads share the same memory (good for I/O-bound tasks).\n",
        "*Multiprocessing: Separate processes with independent memory (good for CPU-bound tasks).\n",
        "\n"
      ],
      "metadata": {
        "id": "JxVvqdMXXx3e"
      }
    },
    {
      "cell_type": "markdown",
      "source": [
        "10.What are the Advantages of logging in programm?\n",
        "\n",
        "\n",
        "*   Helps with debugging\n",
        "*Keeps a record of events/errors\n",
        "*Improves application monitoring\n",
        "\n"
      ],
      "metadata": {
        "id": "DsHA4f3vYDI2"
      }
    },
    {
      "cell_type": "markdown",
      "source": [
        "11.What is the Memory management in Python?\n",
        "\n",
        "\n",
        "*   Python uses automatic memory management with techniques like garbage collection and reference counting.\n",
        "\n"
      ],
      "metadata": {
        "id": "VTgKdJijYXQA"
      }
    },
    {
      "cell_type": "markdown",
      "source": [
        "12.What are Basic steps involved in exception handling in python?\n",
        "\n",
        "\n",
        "*   Use try to define the block with potential errors.\n",
        "*Use except to handle exceptions.\n",
        "*Use finally for cleanup actions.\n",
        "*Use raise to manually trigger exceptions.\n",
        "\n"
      ],
      "metadata": {
        "id": "aON2F59vZNwT"
      }
    },
    {
      "cell_type": "markdown",
      "source": [
        "13.Why is memory management important in Python?\n",
        "\n",
        "\n",
        "*   Efficient memory management prevents memory leaks and optimizes performance.\n",
        "\n"
      ],
      "metadata": {
        "id": "8mdTyzx7Zqic"
      }
    },
    {
      "cell_type": "markdown",
      "source": [
        "14. What is the role of try and except in exception handling?\n",
        "\n",
        "\n",
        "*   try contains risky code.\n",
        "*except catches and handles exceptions.\n"
      ],
      "metadata": {
        "id": "hDX9oa_SaMHG"
      }
    },
    {
      "cell_type": "markdown",
      "source": [
        "15.How does Python's garbage collection system work?\n",
        "\n",
        "\n",
        "*   Python uses reference counting and a cyclic garbage collector to manage memory.\n",
        "\n"
      ],
      "metadata": {
        "id": "VjD5l852akSo"
      }
    },
    {
      "cell_type": "markdown",
      "source": [
        "16.What is the purpose of the else block in exception handling?\n",
        "\n",
        "\n",
        "*   Runs only if no exceptions occur in the try block:\n",
        "\n",
        "\n"
      ],
      "metadata": {
        "id": "lzSgFPGMayWN"
      }
    },
    {
      "cell_type": "code",
      "source": [
        "try:\n",
        "    x = 5 / 1\n",
        "except ZeroDivisionError:\n",
        "    print(\"Cannot divide by zero\")\n",
        "else:\n",
        "    print(\"No exceptions, division successful\")\n"
      ],
      "metadata": {
        "colab": {
          "base_uri": "https://localhost:8080/"
        },
        "id": "9icY083sa_VP",
        "outputId": "fc90ebe0-c3dd-4c17-c96b-ef35921068c2"
      },
      "execution_count": 1,
      "outputs": [
        {
          "output_type": "stream",
          "name": "stdout",
          "text": [
            "No exceptions, division successful\n"
          ]
        }
      ]
    },
    {
      "cell_type": "markdown",
      "source": [
        "17.What are the common logging levels in Python?\n",
        "\n",
        "\n",
        "*   DEBUG (10) - Detailed info for debugging\n",
        "*INFO (20) - General messages\n",
        "*WARNING (30) - Something unexpected\n",
        "*ERROR (40) - A serious problem\n",
        "*CRITICAL (50) - Critical failure\n",
        "\n"
      ],
      "metadata": {
        "id": "bo948MnCbIlF"
      }
    },
    {
      "cell_type": "markdown",
      "source": [
        "18.What is the difference between os.fork() and multiprocessing in Python?\n",
        "\n",
        "\n",
        "*  os.fork() creates a child process (Unix-based systems only).\n",
        "*multiprocessing works cross-platform and manages processes efficiently.\n",
        "\n"
      ],
      "metadata": {
        "id": "yFYkjOuNbZYd"
      }
    },
    {
      "cell_type": "markdown",
      "source": [
        "19.What is the importance of closing a file in Python0\n",
        "\n",
        "\n",
        "*  Closing files frees memory and prevents corruption of data.\n",
        "\n"
      ],
      "metadata": {
        "id": "0kYQiPvXbpaQ"
      }
    },
    {
      "cell_type": "markdown",
      "source": [
        "20.What is the difference between file.read() and file.readline() in Python0\n",
        "\n",
        "\n",
        "*   file.read() reads the whole file.\n",
        "*file.readline() reads a single line at a time.\n",
        "\n"
      ],
      "metadata": {
        "id": "Rt6nORESb6vd"
      }
    },
    {
      "cell_type": "markdown",
      "source": [
        "21.What is the logging module in Python used for?\n",
        "\n",
        "\n",
        "*  Stores logs for debugging, tracking, and analyzing program execution.\n",
        "\n"
      ],
      "metadata": {
        "id": "Gj1fEoFWcH6k"
      }
    },
    {
      "cell_type": "markdown",
      "source": [
        "22.What is the os module in Python used for in file handling?\n",
        "\n",
        "\n",
        "*  The os module allows operations like renaming, deleting, and navigating files.\n",
        "\n"
      ],
      "metadata": {
        "id": "tAJzmToLcX6B"
      }
    },
    {
      "cell_type": "markdown",
      "source": [
        "23.What are the challenges associated with memory management in Python?\n",
        "\n",
        "\n",
        "*   High memory usage\n",
        "*Cyclic references causing garbage collection delays\n",
        "*Performance impact on large-scale applications\n",
        "\n"
      ],
      "metadata": {
        "id": "-baT-3K1clJH"
      }
    },
    {
      "cell_type": "markdown",
      "source": [
        "24. How do you raise an exception manually in Python?\n",
        "\n",
        "\n",
        "*   Use raise to trigger exceptions:\n",
        "\n"
      ],
      "metadata": {
        "id": "xKfs15Y4c6AB"
      }
    },
    {
      "cell_type": "code",
      "source": [
        "age=20\n",
        "if age < 18:\n",
        "    raise ValueError(\"Age must be at least 18\")\n"
      ],
      "metadata": {
        "id": "XSWMuTyddFvW"
      },
      "execution_count": 2,
      "outputs": []
    },
    {
      "cell_type": "markdown",
      "source": [
        "25.Why is it important to use multithreading in certain applications?\n",
        "\n",
        "\n",
        "*  Faster execution for I/O-bound tasks\n",
        "*Parallel execution of operations\n",
        "*Improved application performance\n",
        "\n",
        "\n",
        "\n"
      ],
      "metadata": {
        "id": "Zapqa5j8dii6"
      }
    },
    {
      "cell_type": "code",
      "source": [
        "#Practicle Question"
      ],
      "metadata": {
        "id": "q2PpExg9d5_q"
      },
      "execution_count": null,
      "outputs": []
    },
    {
      "cell_type": "code",
      "source": [
        "#1.How can you open a file for writing in Python and write a string to it\n",
        "with open(\"example.txt\", \"w\") as file:\n",
        "    file.write(\"Hello, Python!\")\n"
      ],
      "metadata": {
        "id": "a0WNCl4sd_Um"
      },
      "execution_count": 3,
      "outputs": []
    },
    {
      "cell_type": "code",
      "source": [
        "#2.Write a Python program to read the contents of a file and print each line\n",
        "with open(\"example.txt\", \"r\") as file:\n",
        "    for line in file:\n",
        "        print(line.strip())\n"
      ],
      "metadata": {
        "colab": {
          "base_uri": "https://localhost:8080/"
        },
        "id": "AvIecJxBd_Hy",
        "outputId": "369bcd79-e111-4bc7-9eea-54b8dbf5d3b2"
      },
      "execution_count": 4,
      "outputs": [
        {
          "output_type": "stream",
          "name": "stdout",
          "text": [
            "Hello, Python!\n"
          ]
        }
      ]
    },
    {
      "cell_type": "code",
      "source": [
        "#3.How would you handle a case where the file doesn't exist while trying to open it for reading\n",
        "try:\n",
        "  file=open(\"exaample.txt\",\"r\")\n",
        "  file.readd()\n",
        "except FileNotFoundError:\n",
        "    print(\"File not found!\")\n"
      ],
      "metadata": {
        "colab": {
          "base_uri": "https://localhost:8080/"
        },
        "id": "adoAEsQOfLqI",
        "outputId": "5507ec8a-f984-4d4d-edec-bdecd8c7ac83"
      },
      "execution_count": 5,
      "outputs": [
        {
          "output_type": "stream",
          "name": "stdout",
          "text": [
            "File not found!\n"
          ]
        }
      ]
    },
    {
      "cell_type": "code",
      "source": [
        "#4.Write a Python script that reads from one file and writes its content to another\n",
        "try:\n",
        "  source_file=open(\"source.txt\",\"r\")\n",
        "  destination_file=open(\"destination.txt\",\"w\")\n",
        "  for line in source_file:\n",
        "     destination_file.write(line)\n",
        "  source_file.close()\n",
        "  destination_file.close()\n",
        "  print(\"content copied sucessfuly\")\n",
        "except FileNotFoundError:\n",
        "    print(\"source file not found\")\n",
        "except Exception as e:\n",
        "    print(f\"An error occured:{e}\")"
      ],
      "metadata": {
        "colab": {
          "base_uri": "https://localhost:8080/"
        },
        "id": "t_Ga7TPHgyYh",
        "outputId": "27ce7545-70be-4542-8981-03647ea78d4e"
      },
      "execution_count": 7,
      "outputs": [
        {
          "output_type": "stream",
          "name": "stdout",
          "text": [
            "source file not found\n"
          ]
        }
      ]
    },
    {
      "cell_type": "code",
      "source": [
        "#5.How would you catch and handle division by zero error in Python\n",
        "try:\n",
        "    result = 10 / 0\n",
        "except ZeroDivisionError:\n",
        "    print(\"Cannot divide by zero!\")"
      ],
      "metadata": {
        "colab": {
          "base_uri": "https://localhost:8080/"
        },
        "id": "CTkDq0BZhdOA",
        "outputId": "040cabdf-7620-47b1-fff6-966798a683a0"
      },
      "execution_count": 8,
      "outputs": [
        {
          "output_type": "stream",
          "name": "stdout",
          "text": [
            "Cannot divide by zero!\n"
          ]
        }
      ]
    },
    {
      "cell_type": "code",
      "source": [
        "#6.Write a Python program that logs an error message to a log file when a division by zero exception occurs\n",
        "import logging\n",
        "\n",
        "logging.basicConfig(filename=\"errors.log\", level=logging.ERROR)\n",
        "\n",
        "try:\n",
        "    result = 10 / 0\n",
        "except ZeroDivisionError as e:\n",
        "    logging.error(f\"Division by zero error: {e}\")\n"
      ],
      "metadata": {
        "colab": {
          "base_uri": "https://localhost:8080/"
        },
        "id": "xzqzVuRZhoO_",
        "outputId": "125fc76c-f620-440e-ef81-8a0f0f227be3"
      },
      "execution_count": 9,
      "outputs": [
        {
          "output_type": "stream",
          "name": "stderr",
          "text": [
            "ERROR:root:Division by zero error: division by zero\n"
          ]
        }
      ]
    },
    {
      "cell_type": "code",
      "source": [
        "#7.How do you log information at different levels (INFO, ERROR, WARNING) in Python using the logging module\n",
        "import logging\n",
        "\n",
        "logging.basicConfig(filename=\"app.log\", level=logging.INFO)\n",
        "\n",
        "logging.info(\"This is an informational message.\")\n",
        "logging.warning(\"This is a warning message.\")\n",
        "logging.error(\"This is an error message.\")"
      ],
      "metadata": {
        "colab": {
          "base_uri": "https://localhost:8080/"
        },
        "id": "Bw6_kj-wh3kq",
        "outputId": "972cff87-c5bb-4596-eccc-f0dba8b1a253"
      },
      "execution_count": 10,
      "outputs": [
        {
          "output_type": "stream",
          "name": "stderr",
          "text": [
            "WARNING:root:This is a warning message.\n",
            "ERROR:root:This is an error message.\n"
          ]
        }
      ]
    },
    {
      "cell_type": "code",
      "source": [
        "#8.Write a program to handle a file opening error using exception handling\n",
        "try:\n",
        "    with open(\"unknown.txt\", \"r\") as file:\n",
        "        print(file.read())\n",
        "except FileNotFoundError:\n",
        "    print(\"File not found!\")\n"
      ],
      "metadata": {
        "colab": {
          "base_uri": "https://localhost:8080/"
        },
        "id": "hm5w89bmiBm8",
        "outputId": "041f1eb4-05d6-4e56-8b37-4c55a7c370ab"
      },
      "execution_count": 11,
      "outputs": [
        {
          "output_type": "stream",
          "name": "stdout",
          "text": [
            "File not found!\n"
          ]
        }
      ]
    },
    {
      "cell_type": "code",
      "source": [
        "#9. How can you read a file line by line and store its content in a list in Python\n",
        "with open(\"example.txt\", \"r\") as file:\n",
        "    lines = file.readlines()\n",
        "    print(lines)\n",
        "\n"
      ],
      "metadata": {
        "colab": {
          "base_uri": "https://localhost:8080/"
        },
        "id": "gMv0yxW7iX_6",
        "outputId": "21805d88-7787-42ca-a2f8-bb82d8ad7c92"
      },
      "execution_count": 12,
      "outputs": [
        {
          "output_type": "stream",
          "name": "stdout",
          "text": [
            "['Hello, Python!']\n"
          ]
        }
      ]
    },
    {
      "cell_type": "code",
      "source": [
        "#10.How can you append data to an existing file in Python\n",
        "with open(\"example.txt\", \"a\") as file:\n",
        "    file.write(\"\\nAppending new line\")\n",
        "\n"
      ],
      "metadata": {
        "id": "gxixF-w1ilVD"
      },
      "execution_count": 13,
      "outputs": []
    },
    {
      "cell_type": "code",
      "source": [
        "#11.Write a Python program that uses a try-except block to handle an error when attempting to access a\n",
        "#dictionary key that doesn't exist\n",
        "my_dict = {\"a\": 1, \"b\": 2}\n",
        "\n",
        "try:\n",
        "    value = my_dict[\"c\"]\n",
        "except KeyError:\n",
        "    print(\"Key 'c' does not exist in the dictionary.\")\n"
      ],
      "metadata": {
        "colab": {
          "base_uri": "https://localhost:8080/"
        },
        "id": "Fmlmua2yi3Dc",
        "outputId": "b5f23e42-5032-4f19-da17-d7f0aa436458"
      },
      "execution_count": 14,
      "outputs": [
        {
          "output_type": "stream",
          "name": "stdout",
          "text": [
            "Key 'c' does not exist in the dictionary.\n"
          ]
        }
      ]
    },
    {
      "cell_type": "code",
      "source": [
        "#12.F Write a program that demonstrates using multiple except blocks to handle different types of exceptions\n",
        "try:\n",
        "    num = int(\"hello\")  # ValueError\n",
        "    result = 10 / 0  # ZeroDivisionError\n",
        "except ValueError:\n",
        "    print(\"Invalid number!\")\n",
        "except ZeroDivisionError:\n",
        "    print(\"Cannot divide by zero!\")\n"
      ],
      "metadata": {
        "colab": {
          "base_uri": "https://localhost:8080/"
        },
        "id": "plT4vHH_jHZA",
        "outputId": "21cf6fb9-ce70-436b-ddd9-6ee60499efd4"
      },
      "execution_count": 15,
      "outputs": [
        {
          "output_type": "stream",
          "name": "stdout",
          "text": [
            "Invalid number!\n"
          ]
        }
      ]
    },
    {
      "cell_type": "code",
      "source": [
        "#13.How would you check if a file exists before attempting to read it in Python\n",
        "import os\n",
        "\n",
        "if os.path.exists(\"example.txt\"):\n",
        "    with open(\"example.txt\", \"r\") as file:\n",
        "        print(file.read())\n",
        "else:\n",
        "    print(\"File does not exist!\")\n"
      ],
      "metadata": {
        "colab": {
          "base_uri": "https://localhost:8080/"
        },
        "id": "SbM3sjstjVpE",
        "outputId": "dbe1ef32-f016-458d-8207-291f66e36803"
      },
      "execution_count": 16,
      "outputs": [
        {
          "output_type": "stream",
          "name": "stdout",
          "text": [
            "Hello, Python!\n",
            "Appending new line\n"
          ]
        }
      ]
    },
    {
      "cell_type": "code",
      "source": [
        "#14.Write a program that uses the logging module to log both informational and error messages\n",
        "import logging\n",
        "\n",
        "logging.basicConfig(filename=\"app.log\", level=logging.INFO)\n",
        "\n",
        "logging.info(\"This is an informational message.\")\n",
        "logging.error(\"This is an error message.\")"
      ],
      "metadata": {
        "colab": {
          "base_uri": "https://localhost:8080/"
        },
        "id": "mReE-eByjfAF",
        "outputId": "586f6503-6c86-42aa-bc86-3d751b9b3aa9"
      },
      "execution_count": 17,
      "outputs": [
        {
          "output_type": "stream",
          "name": "stderr",
          "text": [
            "ERROR:root:This is an error message.\n"
          ]
        }
      ]
    },
    {
      "cell_type": "code",
      "source": [
        "#15. Write a Python program that prints the content of a file and handles the case when the file is empty\n",
        "with open(\"example.txt\", \"r\") as file:\n",
        "    content = file.read()\n",
        "    if content:\n",
        "        print(content)\n",
        "    else:\n",
        "        print(\"File is empty!\")\n"
      ],
      "metadata": {
        "colab": {
          "base_uri": "https://localhost:8080/"
        },
        "id": "dq36WTeujo9m",
        "outputId": "d8faf747-2295-431c-b6b2-18cc51e3daf6"
      },
      "execution_count": 18,
      "outputs": [
        {
          "output_type": "stream",
          "name": "stdout",
          "text": [
            "Hello, Python!\n",
            "Appending new line\n"
          ]
        }
      ]
    },
    {
      "cell_type": "markdown",
      "source": [],
      "metadata": {
        "id": "FEGr87xEBA4y"
      }
    },
    {
      "cell_type": "code",
      "source": [
        "#16.Demonstrate how to use memory profiling to check the memory usage of a small program\n",
        "\n"
      ],
      "metadata": {
        "id": "TLwJy29Q9CZz"
      },
      "execution_count": 19,
      "outputs": []
    },
    {
      "cell_type": "code",
      "source": [
        "!pip install memory_profiler\n",
        "from memory_profiler import memory_usage\n",
        "\n",
        "def create_list():\n",
        "    my_list = [i for i in range(10**6)]\n",
        "    return my_list\n",
        "\n",
        "mem_usage = memory_usage(create_list)\n",
        "print(f\"Memory usage: {max(mem_usage)} MB\")\n"
      ],
      "metadata": {
        "colab": {
          "base_uri": "https://localhost:8080/"
        },
        "id": "PAeJSui592Z3",
        "outputId": "979cb6e4-ad4b-4587-d8c9-a8fc813ec58c"
      },
      "execution_count": 22,
      "outputs": [
        {
          "output_type": "stream",
          "name": "stdout",
          "text": [
            "Collecting memory_profiler\n",
            "  Downloading memory_profiler-0.61.0-py3-none-any.whl.metadata (20 kB)\n",
            "Requirement already satisfied: psutil in /usr/local/lib/python3.11/dist-packages (from memory_profiler) (5.9.5)\n",
            "Downloading memory_profiler-0.61.0-py3-none-any.whl (31 kB)\n",
            "Installing collected packages: memory_profiler\n",
            "Successfully installed memory_profiler-0.61.0\n",
            "Memory usage: 192.69921875 MB\n"
          ]
        }
      ]
    },
    {
      "cell_type": "code",
      "source": [
        "#17.Write a Python program to create and write a list of numbers to a file, one number per line\n",
        "numbers = [1, 2, 3, 4, 5]\n",
        "with open(\"numbers.txt\", \"w\") as file:\n",
        "    for num in numbers:\n",
        "        file.write(f\"{num}\\n\")\n"
      ],
      "metadata": {
        "id": "-sD6Q2-HlMSW"
      },
      "execution_count": 23,
      "outputs": []
    },
    {
      "cell_type": "code",
      "source": [
        "#18.How would you implement a basic logging setup that logs to a file with rotation after 1MB\n",
        "import logging\n",
        "from logging.handlers import RotatingFileHandler\n",
        "\n",
        "handler = RotatingFileHandler(\"app.log\", maxBytes=1024 * 1024, backupCount=5)\n",
        "logging.basicConfig(handlers=[handler], level=logging.INFO)\n",
        "\n"
      ],
      "metadata": {
        "id": "-vM-rjSZlZBE"
      },
      "execution_count": 24,
      "outputs": []
    },
    {
      "cell_type": "code",
      "source": [
        "#19.Write a program that handles both IndexError and KeyError using a try-except block\n",
        "try:\n",
        "    my_list = [1, 2, 3]\n",
        "    print(my_list[5])  # IndexError\n",
        "\n",
        "    my_dict = {\"a\": 1}\n",
        "    print(my_dict[\"b\"])  # KeyError\n",
        "except IndexError:\n",
        "    print(\"Index out of range!\")\n",
        "except KeyError:\n",
        "    print(\"Key not found!\")\n",
        "\n"
      ],
      "metadata": {
        "colab": {
          "base_uri": "https://localhost:8080/"
        },
        "id": "ziUrsR4UluQD",
        "outputId": "c1fc3aad-f77e-4e45-b06c-753e77af101d"
      },
      "execution_count": 25,
      "outputs": [
        {
          "output_type": "stream",
          "name": "stdout",
          "text": [
            "Index out of range!\n"
          ]
        }
      ]
    },
    {
      "cell_type": "code",
      "source": [
        "#20.How would you open a file and read its contents using a context manager in Python\n",
        "with open(\"example.txt\", \"r\") as file:\n",
        "    content = file.read()\n",
        "print(content)\n"
      ],
      "metadata": {
        "colab": {
          "base_uri": "https://localhost:8080/"
        },
        "id": "ixqqSOAFl-g0",
        "outputId": "c753098d-0665-4227-ce5e-7a28850dad1d"
      },
      "execution_count": 26,
      "outputs": [
        {
          "output_type": "stream",
          "name": "stdout",
          "text": [
            "Hello, Python!\n",
            "Appending new line\n"
          ]
        }
      ]
    },
    {
      "cell_type": "code",
      "source": [
        "#21. Write a Python program that reads a file and prints the number of occurrences of a specific word\n",
        "word_to_count = \"Python\"\n",
        "with open(\"example.txt\", \"r\") as file:\n",
        "    content = file.read()\n",
        "    print(content.lower().count(word_to_count.lower()))\n"
      ],
      "metadata": {
        "colab": {
          "base_uri": "https://localhost:8080/"
        },
        "id": "ZotRIKVvmJwi",
        "outputId": "0957e3a6-7e4d-41d3-b206-1c5c7dec0416"
      },
      "execution_count": 27,
      "outputs": [
        {
          "output_type": "stream",
          "name": "stdout",
          "text": [
            "1\n"
          ]
        }
      ]
    },
    {
      "cell_type": "code",
      "source": [
        "#22.How can you check if a file is empty before attempting to read its contents\n",
        "import os\n",
        "\n",
        "if os.path.exists(\"example.txt\") and os.stat(\"example.txt\").st_size > 0:\n",
        "    with open(\"example.txt\", \"r\") as file:\n",
        "        print(file.read())\n",
        "else:\n",
        "    print(\"File is empty!\")\n"
      ],
      "metadata": {
        "colab": {
          "base_uri": "https://localhost:8080/"
        },
        "id": "A7HLyWKqmTPx",
        "outputId": "914fa1d9-e5ea-40c2-852d-fc20fb5c626e"
      },
      "execution_count": 28,
      "outputs": [
        {
          "output_type": "stream",
          "name": "stdout",
          "text": [
            "Hello, Python!\n",
            "Appending new line\n"
          ]
        }
      ]
    },
    {
      "cell_type": "code",
      "source": [
        "#23.Write a Python program that writes to a log file when an error occurs during file handling.\n",
        "import logging\n",
        "\n",
        "logging.basicConfig(filename=\"error.log\", level=logging.ERROR)\n",
        "\n",
        "try:\n",
        "    with open(\"nonexistent.txt\", \"r\") as file:\n",
        "        print(file.read())\n",
        "except FileNotFoundError as e:\n",
        "    logging.error(f\"File error: {e}\")\n"
      ],
      "metadata": {
        "colab": {
          "base_uri": "https://localhost:8080/"
        },
        "id": "oNT8laQRmlDx",
        "outputId": "6a3bd6e7-ec31-4296-a5d5-d8bc29f580f0"
      },
      "execution_count": 29,
      "outputs": [
        {
          "output_type": "stream",
          "name": "stderr",
          "text": [
            "ERROR:root:File error: [Errno 2] No such file or directory: 'nonexistent.txt'\n"
          ]
        }
      ]
    }
  ]
}